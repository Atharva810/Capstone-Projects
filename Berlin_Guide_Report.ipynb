{
    "nbformat_minor": 1, 
    "cells": [
        {
            "source": "# Berlin Tourist Guide", 
            "cell_type": "markdown", 
            "metadata": {}
        }, 
        {
            "source": "## Tourist Places and nearby top 10 popular destinations", 
            "cell_type": "markdown", 
            "metadata": {}
        }, 
        {
            "source": "## The Final Report", 
            "cell_type": "markdown", 
            "metadata": {}
        }, 
        {
            "source": "### 1. Introduction", 
            "cell_type": "markdown", 
            "metadata": {}
        }, 
        {
            "source": "The multi-cultural city of Berlin attracts a lot of tourists around the world. The tourists visit the famous sights and would like to make the most of their visit, by having the famous local food, shopping to mark the remembrance of the visit etc.", 
            "cell_type": "markdown", 
            "metadata": {}
        }, 
        {
            "source": "#### 1.1 Business Problem", 
            "cell_type": "markdown", 
            "metadata": {}
        }, 
        {
            "source": "Tourists often face problems of either missing the places of attraction near to the main tourist spot they visit. This happens due to lack of time and absence of information regarding these places. To make this task easier for the visitors in Berlin, to eat, shop and relax in the nearby popular destinations and allowing them to get the most out of their visit to Berlin, this application has been developed.\n\nA guide to the tourists of Berlin to the 12 famous tourists sights. The tourists will find this helpful to know about the famous spots of Berlin. Each of the 12 tourists spots are equipped with the most popular destinations nearby, including places to eat, shop and visit so as to take the full advantage of their visit to the place.", 
            "cell_type": "markdown", 
            "metadata": {}
        }, 
        {
            "source": "#### 1.2 Interests", 
            "cell_type": "markdown", 
            "metadata": {}
        }, 
        {
            "source": "All the visitors to Berlin would be interested in having the information of the nearby popular places, which are within the walkable distance, which are popular for the food, for shopping, for clubbing or for relaxing with a cup of coffee. This would help them to take the advantage of their visit to a particular tourist spot with the nearby places to enjoy.", 
            "cell_type": "markdown", 
            "metadata": {}
        }, 
        {
            "source": "### 2.Data Collection", 
            "cell_type": "markdown", 
            "metadata": {}
        }, 
        {
            "source": "The famous sights in Berlin are extracted from the website 'https://simple.wikipedia.org/wiki/Berlin'. The data is web-scarped to get the list of sights from the above site.\nThe location coordinates for all the sights are extracted using 'geocode' and all the information pertaining to, Tourist-place, latitude and longitude, is stored as a dataframe 'df' and also as 'tourist_coordinates.csv' to use it in future for further exploration.\n\nFor each tourist place stored in the dataframe, the top 10 popular nearby destinations from the categories - Food, Coffee, Shop, Club and Fun are extracted from 'Foursquare.com' using the API calls.\n\nBerlin is segmented into 12 tourist sights and further clustering has been performed based on the categories of the desitnations and also based on the location of the destinations which are within a range of 500m from the tourist spot.", 
            "cell_type": "markdown", 
            "metadata": {}
        }, 
        {
            "source": "### 3.Methodology", 
            "cell_type": "markdown", 
            "metadata": {}
        }, 
        {
            "source": "#### 3.1 The Data Collection", 
            "cell_type": "markdown", 
            "metadata": {}
        }, 
        {
            "source": "The data extraction was mostly based from Foursquare.com. To get the lists of tourists sights using the API calls was not working as instead of getting the lists of the sight the information extracted did not match to the results when searched on the website of the Foursquare.com. This lead to the scraping of the list stored on the website 'https://simple.wikipedia.org/wiki/Berlin'.\n\nBeautifulsoup4 library was used to parse the data from the website in html format and the lists of the tourists sights was extracted from the different html tags.\n\nOnce the list of tourists was collected, the location coordinates of the sights were extracted using the geocode requests and stored in the dataframe with the following information: Tourist_places, Latitude, Longitude.\n\nEach sight was explored for the 10 most popular nearby destinations which falls into the five categories (Food, Coffee, Shop, Club and Fun) using the API calls to Foursquare.com.", 
            "cell_type": "markdown", 
            "metadata": {}
        }, 
        {
            "source": "#### 3.2 The Data Cleaning", 
            "cell_type": "markdown", 
            "metadata": {}
        }, 
        {
            "source": "The data for this problem was not found in a proper format, so except for the name of the tourists sights which was scraped from the website, all of the data is extracted using the API calls.\n\nThe data was retrieved in json formats using the API calls and from which, the required data was collected and stored into a data frame making it easier for further analysis.\n\nThe most important feature of the data extraction was instead of \"json_normalize\" to flatten the json file to a tabular format, I collected the required data by coding the stages of data extraction. Here, the check for missing information, was tackled with try and except. The required data was first stored as a list and then transfered to the dataframe format using the dictionary. Each chunk of data collected for each category for each tourist sight was appended to the dataframe. The columns of the data frame designed ot store the data were -- tourist_places, category(among the 5 categories which was decided to be explored), retrieved_category (each desitnation has its own category defined), latitude, longitude, place_name, place_address, and place_distance.\n\nThe expected number of destinations for each sight were 10 having 5(categories). So the total number expected were 12 (sights) * 5(categories) * 10(places to explore) = 600 destinations but only 290 were collected as many sights are very near to each other and so the same region was scanned for the destinations, and many like Berlin hauptbahnhof, Branderburg gate had very few places around them.", 
            "cell_type": "markdown", 
            "metadata": {}
        }, 
        {
            "source": "### 4. Results and Discussions", 
            "cell_type": "markdown", 
            "metadata": {}
        }, 
        {
            "source": "#### 4.1 Exploratory analysis", 
            "cell_type": "markdown", 
            "metadata": {}
        }, 
        {
            "source": "The total number of places retrieved in each category was represented on a bar plot and the tourists sights and the 290 destinations were plot on a map of Berlin using Folium. Most of the data was categorical, with the only numerical data were --- latitude, longitude and the distance.", 
            "cell_type": "markdown", 
            "metadata": {}
        }, 
        {
            "source": "#### 4.2 Clustering", 
            "cell_type": "markdown", 
            "metadata": {}
        }, 
        {
            "source": "The data was segmented and clustered using the KMeans, based on the retrieved_categories of the venues in the neighborhoods of the tourist places. The retrieved_categories was one hot encoded to convert the categorical to numerical data type. The clusters were visualized on the map to reveal the overlapping of the clusters, indicating the categories feature would not give good clusters.\n\nSo, the data was segmented and clustered on the basis of the destinations extracted in the neighborhoods. Though the query to explore the neighborhood within a distance of 500m was specified, the results included the destinations which had distance greater than 500m. To avoid more complexities, the data pertaining to distance <= 500 was featured, to get more clear clusters. The five clusters obtained using KMeans algorithm, represented the places in the neighbourhood of the sights. A few instances of over-mingling of the cluster 2 and cluster 3 is observed, which indicates the location of the places being very close to one another and hence the overlapping.", 
            "cell_type": "markdown", 
            "metadata": {}
        }, 
        {
            "source": "### 5. Conclusion", 
            "cell_type": "markdown", 
            "metadata": {}
        }, 
        {
            "source": "This program generates the data of the popular desitnations near the tourist sights and helps the visitors to take the benefit of the places in the neighborhoods of the sights and gives the idea that many of the sights are located in the center of the city and are not far from one another. Although, the destinations away from the city center, will serve the purpose more. Moving away from the city centre leaves with fewer options to be explored and helps the visitors to be aware of the options available in the nearby area.", 
            "cell_type": "markdown", 
            "metadata": {}
        }, 
        {
            "source": "#### 5.1 Future suggestions", 
            "cell_type": "markdown", 
            "metadata": {}
        }, 
        {
            "source": "This study extracted the data of the places nearby related to five categories and generated the clusters, however considering more categories like locations of hotels, public toilets, public transportation, emergency services can add more value.", 
            "cell_type": "markdown", 
            "metadata": {}
        }
    ], 
    "metadata": {
        "kernelspec": {
            "display_name": "Python 3.6", 
            "name": "python3", 
            "language": "python"
        }, 
        "language_info": {
            "mimetype": "text/x-python", 
            "nbconvert_exporter": "python", 
            "version": "3.6.8", 
            "name": "python", 
            "file_extension": ".py", 
            "pygments_lexer": "ipython3", 
            "codemirror_mode": {
                "version": 3, 
                "name": "ipython"
            }
        }
    }, 
    "nbformat": 4
}